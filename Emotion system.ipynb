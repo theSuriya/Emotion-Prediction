{
 "cells": [
  {
   "cell_type": "code",
   "execution_count": 1,
   "id": "3e0f88ed",
   "metadata": {},
   "outputs": [],
   "source": [
    "import tensorflow as tf\n",
    "import pandas as pd\n",
    "import numpy as np\n",
    "import re\n",
    "import nltk\n",
    "from nltk.corpus import wordnet\n",
    "from nltk.stem import PorterStemmer,WordNetLemmatizer\n",
    "from tensorflow.keras.layers import Dense,Embedding,Bidirectional,LSTM,Conv1D,GlobalMaxPooling1D\n",
    "from tensorflow.keras.preprocessing.text import Tokenizer\n",
    "from tensorflow.keras.preprocessing.sequence import pad_sequences\n",
    "from tensorflow.keras.models import Sequential\n",
    "from sklearn.model_selection import train_test_split\n",
    "from sklearn.preprocessing import LabelEncoder"
   ]
  },
  {
   "cell_type": "code",
   "execution_count": 2,
   "id": "280e95e3",
   "metadata": {},
   "outputs": [],
   "source": [
    "text = pd.read_csv(\"Emotion_final.csv\")"
   ]
  },
  {
   "cell_type": "code",
   "execution_count": 5,
   "id": "fbfb6be5",
   "metadata": {},
   "outputs": [],
   "source": [
    "text.Emotion.replace({'sadness':0,'anger':1,'love':2,'surprise':3,'fear':4,'happy':5},inplace=True)"
   ]
  },
  {
   "cell_type": "code",
   "execution_count": 7,
   "id": "5a81e55e",
   "metadata": {},
   "outputs": [
    {
     "data": {
      "text/html": [
       "<div>\n",
       "<style scoped>\n",
       "    .dataframe tbody tr th:only-of-type {\n",
       "        vertical-align: middle;\n",
       "    }\n",
       "\n",
       "    .dataframe tbody tr th {\n",
       "        vertical-align: top;\n",
       "    }\n",
       "\n",
       "    .dataframe thead th {\n",
       "        text-align: right;\n",
       "    }\n",
       "</style>\n",
       "<table border=\"1\" class=\"dataframe\">\n",
       "  <thead>\n",
       "    <tr style=\"text-align: right;\">\n",
       "      <th></th>\n",
       "      <th>Text</th>\n",
       "      <th>Emotion</th>\n",
       "    </tr>\n",
       "  </thead>\n",
       "  <tbody>\n",
       "    <tr>\n",
       "      <th>0</th>\n",
       "      <td>i didnt feel humiliated</td>\n",
       "      <td>0</td>\n",
       "    </tr>\n",
       "    <tr>\n",
       "      <th>1</th>\n",
       "      <td>i can go from feeling so hopeless to so damned...</td>\n",
       "      <td>0</td>\n",
       "    </tr>\n",
       "    <tr>\n",
       "      <th>2</th>\n",
       "      <td>im grabbing a minute to post i feel greedy wrong</td>\n",
       "      <td>1</td>\n",
       "    </tr>\n",
       "    <tr>\n",
       "      <th>3</th>\n",
       "      <td>i am ever feeling nostalgic about the fireplac...</td>\n",
       "      <td>2</td>\n",
       "    </tr>\n",
       "    <tr>\n",
       "      <th>4</th>\n",
       "      <td>i am feeling grouchy</td>\n",
       "      <td>1</td>\n",
       "    </tr>\n",
       "    <tr>\n",
       "      <th>...</th>\n",
       "      <td>...</td>\n",
       "      <td>...</td>\n",
       "    </tr>\n",
       "    <tr>\n",
       "      <th>21754</th>\n",
       "      <td>I'm not feeling down; in fact, I'm quite content.</td>\n",
       "      <td>5</td>\n",
       "    </tr>\n",
       "    <tr>\n",
       "      <th>21755</th>\n",
       "      <td>The joy in my heart is a constant, unwavering ...</td>\n",
       "      <td>5</td>\n",
       "    </tr>\n",
       "    <tr>\n",
       "      <th>21756</th>\n",
       "      <td>Happiness is my chosen state of mind.</td>\n",
       "      <td>5</td>\n",
       "    </tr>\n",
       "    <tr>\n",
       "      <th>21757</th>\n",
       "      <td>This moment is pure happiness.</td>\n",
       "      <td>5</td>\n",
       "    </tr>\n",
       "    <tr>\n",
       "      <th>21758</th>\n",
       "      <td>Life is too short not to be happy!</td>\n",
       "      <td>5</td>\n",
       "    </tr>\n",
       "  </tbody>\n",
       "</table>\n",
       "<p>21759 rows × 2 columns</p>\n",
       "</div>"
      ],
      "text/plain": [
       "                                                    Text  Emotion\n",
       "0                                i didnt feel humiliated        0\n",
       "1      i can go from feeling so hopeless to so damned...        0\n",
       "2       im grabbing a minute to post i feel greedy wrong        1\n",
       "3      i am ever feeling nostalgic about the fireplac...        2\n",
       "4                                   i am feeling grouchy        1\n",
       "...                                                  ...      ...\n",
       "21754  I'm not feeling down; in fact, I'm quite content.        5\n",
       "21755  The joy in my heart is a constant, unwavering ...        5\n",
       "21756              Happiness is my chosen state of mind.        5\n",
       "21757                     This moment is pure happiness.        5\n",
       "21758                 Life is too short not to be happy!        5\n",
       "\n",
       "[21759 rows x 2 columns]"
      ]
     },
     "execution_count": 7,
     "metadata": {},
     "output_type": "execute_result"
    }
   ],
   "source": [
    "text"
   ]
  },
  {
   "cell_type": "code",
   "execution_count": 8,
   "id": "7789740f",
   "metadata": {},
   "outputs": [
    {
     "data": {
      "text/plain": [
       "Text       0\n",
       "Emotion    0\n",
       "dtype: int64"
      ]
     },
     "execution_count": 8,
     "metadata": {},
     "output_type": "execute_result"
    }
   ],
   "source": [
    "text.isnull().sum()"
   ]
  },
  {
   "cell_type": "code",
   "execution_count": 9,
   "id": "1e9da2b2",
   "metadata": {},
   "outputs": [
    {
     "data": {
      "text/plain": [
       "5    7329\n",
       "0    6265\n",
       "1    2993\n",
       "4    2652\n",
       "2    1641\n",
       "3     879\n",
       "Name: Emotion, dtype: int64"
      ]
     },
     "execution_count": 9,
     "metadata": {},
     "output_type": "execute_result"
    }
   ],
   "source": [
    "text.Emotion.value_counts()"
   ]
  },
  {
   "cell_type": "code",
   "execution_count": 3,
   "id": "8a260ad3",
   "metadata": {},
   "outputs": [],
   "source": [
    "happy =[\"Bubbling with happiness and positive energy.\",\n",
    "\"Not a single cloud in the sky of my emotions; pure sunshine.\",\n",
    "\"I'm not melancholic; I'm filled with unbridled joy.\",\n",
    "\"Life's symphony is playing the melody of happiness.\",\n",
    "\"No room for sorrow to nest; my heart is a nest of joy.\",\n",
    "\"I'm not feeling low-spirited; I'm soaring with joy.\",\n",
    "\"The joy in my heart is a constant, unwavering flame.\",\n",
    "\"I'm not discontented; I'm contentment personified.\",\n",
    "\"Happiness is the compass guiding me through life.\",\n",
    "\"Every heartbeat echoes the rhythm of joy.\",\n",
    "\"I'm not forlorn; I'm flourishing in happiness.\",\n",
    "\"Radiating positivity like the sun radiates warmth.\",\n",
    "\"No shadows of sadness; only beams of joy surround me.\",\n",
    "\"I'm not in the doldrums; I'm in the heights of ecstasy.\",\n",
    "\"Life's tapestry is woven with threads of happiness.\",\n",
    "\"I'm not in a state of gloom; I'm wrapped in bliss.\",\n",
    "\"The laughter in my soul drowns out any hint of sadness.\",\n",
    "\"Not a tinge of melancholy; my heart is a garden of joy.\",\n",
    "\"Happiness is the color palette of my emotions.\",\n",
    "\"I'm not disheartened; my heart beats with optimism.\",\n",
    "\"Gleaming with happiness like a beacon in the night.\",\n",
    "\"No trace of sorrow; my emotional landscape is serene.\",\n",
    "\"I'm not feeling dejected; I'm infused with delight.\",\n",
    "\"My spirit is not subdued; it dances with joy.\",\n",
    "\"The canvas of my emotions is painted with happiness.\",\n",
    "\"I'm not mournful; I'm celebrating the joy of existence.\",\n",
    "\"Joy is the melody, and my heart is the symphony.\",\n",
    "\"Not a moment of despair; my heart is a sanctuary of happiness.\",\n",
    "\"I'm not in the doldrums; I'm riding the waves of joy.\",\n",
    "\"Overflowing with happiness, like a cup that never empties.\",\n",
    "\"No room for sorrow; only the sweet fragrance of joy.\",\n",
    "\"I'm not unhappy; I'm cocooned in the warmth of happiness.\",\n",
    "\"The sun of happiness shines bright in my emotional sky.\",\n",
    "\"Not a shadow of gloom; only sunshine in my soul.\",\n",
    "\"I'm not disheartened; my heart beats with optimism.\",\n",
    "\"Radiating joy like the sun radiates its golden rays.\",\n",
    "\"I'm not crestfallen; I'm on cloud nine with happiness.\",\n",
    "\"No room for sorrow to linger; joy is my constant companion.\",\n",
    "\"The joy within me is an ever-burning flame.\",\n",
    "\"I'm not in a funk; I'm enveloped in the embrace of joy.\",\n",
    "\"My heart is not heavy; it's lightened by the wings of happiness.\",\n",
    "\"No room for sorrow in the symphony of my emotions.\",\n",
    "\"I'm not in the doldrums; I'm dancing to the rhythm of joy.\",\n",
    "\"Radiant with happiness, like the moon in the night sky.\",\n",
    "\"Not a cloud of sadness; only a sky full of happiness.\",\n",
    "\"I'm not in a state of gloom; I'm bathed in sunshine.\",\n",
    "\"No signs of sorrow; only a trail of joy in my wake.\",\n",
    "\"I'm not unhappy; I'm swimming in the sea of happiness.\",\n",
    "\"Brimming with joy like a cup that overflows.\",\n",
    "\"I'm not in the shadows; I'm standing in the spotlight of happiness.\",\n",
    "\"I'm so happy today!\",\n",
    "\"This joyful moment is priceless.\",\n",
    "\"Not a single trace of sadness in my heart.\",\n",
    "\"Happiness is contagious, and I'm spreading it around!\",\n",
    "\"Couldn't be happier with life right now.\",\n",
    "\"Feeling on top of the world!\",\n",
    "\"I'm not feeling down; in fact, I'm quite content.\",\n",
    "\"Every day brings new reasons to be cheerful.\",\n",
    "\"No room for gloominess; my heart is full of joy.\",\n",
    "\"I'm not sad; I'm genuinely elated!\",\n",
    "\"A burst of happiness just brightened my day.\",\n",
    "\"I can't help but smile at the beautiful moments in life.\",\n",
    "\"Absolutely delighted with the outcome.\",\n",
    "\"Not a moment of sorrow; only happiness resides here.\",\n",
    "\"Happiness is my constant companion.\",\n",
    "\"This is the kind of happiness that lasts.\",\n",
    "\"I'm not downhearted; I'm bursting with happiness.\",\n",
    "\"Life is full of delightful surprises.\",\n",
    "\"No room for sorrow; my heart is brimming with joy.\",\n",
    "\"I'm far from being sad; I'm genuinely thrilled!\",\n",
    "\"Pure joy flows through my veins.\",\n",
    "\"I'm not unhappy; I'm immersed in pure bliss.\",\n",
    "\"Radiating positivity and happiness.\",\n",
    "\"Today is a happy day, no room for negativity.\",\n",
    "\"I'm not feeling low; I'm high on happiness.\",\n",
    "\"Overflowing with gratitude and joy.\",\n",
    "\"Not a frown in sight, only smiles and laughter.\",\n",
    "\"Happiness is my chosen state of mind.\",\n",
    "\"I'm not in a bad mood; I'm in a fantastic mood!\",\n",
    "\"This moment is pure happiness.\",\n",
    "\"No sadness allowed; joy is the order of the day.\",\n",
    "\"I'm not discontent; I'm thoroughly content.\",\n",
    "\"Radiant with happiness from within.\",\n",
    "\"Life is too short not to be happy!\",\n",
    "\"I'm not in despair; I'm embracing happiness.\",\n",
    "\"Pure and unfiltered happiness right now.\",\n",
    "\"No time for gloom; only happy vibes here.\",\n",
    "\"I'm not upset; I'm filled with joy.\",\n",
    "\"I'm not feeling blue; I'm feeling jubilant!\",\n",
    "\"Overflowing with happiness and positivity.\",\n",
    "\"I'm not displeased; I'm overjoyed!\",\n",
    "\"Today is a good day; happiness is in the air.\",\n",
    "\"No signs of unhappiness; only smiles today.\",\n",
    "\"I'm not sorrowful; I'm celebrating joy.\",\n",
    "\"Grinning from ear to ear; happiness prevails.\",\n",
    "\"Not a hint of sadness; I'm brimming with happiness.\",\n",
    "\"Life is treating me well; I'm happy.\",\n",
    "\"I'm not in low spirits; I'm in high spirits!\",\n",
    "\"Happiness is the soundtrack of my day.\",\n",
    "\"No room for sorrow; my heart is dancing with joy.\"]"
   ]
  },
  {
   "cell_type": "code",
   "execution_count": 4,
   "id": "0ddc1324",
   "metadata": {},
   "outputs": [],
   "source": [
    "happy_df = pd.DataFrame({\n",
    "    'Text': happy,\n",
    "    'Emotion': ['happy'] * len(happy)\n",
    "})\n",
    "happy_df = happy_df.sample(300,replace=True)\n",
    "text = pd.concat([text, happy_df], ignore_index=True,axis=0)"
   ]
  },
  {
   "cell_type": "code",
   "execution_count": 10,
   "id": "7b58d633",
   "metadata": {},
   "outputs": [
    {
     "data": {
      "text/html": [
       "<div>\n",
       "<style scoped>\n",
       "    .dataframe tbody tr th:only-of-type {\n",
       "        vertical-align: middle;\n",
       "    }\n",
       "\n",
       "    .dataframe tbody tr th {\n",
       "        vertical-align: top;\n",
       "    }\n",
       "\n",
       "    .dataframe thead th {\n",
       "        text-align: right;\n",
       "    }\n",
       "</style>\n",
       "<table border=\"1\" class=\"dataframe\">\n",
       "  <thead>\n",
       "    <tr style=\"text-align: right;\">\n",
       "      <th></th>\n",
       "      <th>Text</th>\n",
       "      <th>Emotion</th>\n",
       "    </tr>\n",
       "  </thead>\n",
       "  <tbody>\n",
       "    <tr>\n",
       "      <th>0</th>\n",
       "      <td>i didnt feel humiliated</td>\n",
       "      <td>0</td>\n",
       "    </tr>\n",
       "    <tr>\n",
       "      <th>1</th>\n",
       "      <td>i can go from feeling so hopeless to so damned...</td>\n",
       "      <td>0</td>\n",
       "    </tr>\n",
       "    <tr>\n",
       "      <th>2</th>\n",
       "      <td>im grabbing a minute to post i feel greedy wrong</td>\n",
       "      <td>1</td>\n",
       "    </tr>\n",
       "    <tr>\n",
       "      <th>3</th>\n",
       "      <td>i am ever feeling nostalgic about the fireplac...</td>\n",
       "      <td>2</td>\n",
       "    </tr>\n",
       "    <tr>\n",
       "      <th>4</th>\n",
       "      <td>i am feeling grouchy</td>\n",
       "      <td>1</td>\n",
       "    </tr>\n",
       "  </tbody>\n",
       "</table>\n",
       "</div>"
      ],
      "text/plain": [
       "                                                Text  Emotion\n",
       "0                            i didnt feel humiliated        0\n",
       "1  i can go from feeling so hopeless to so damned...        0\n",
       "2   im grabbing a minute to post i feel greedy wrong        1\n",
       "3  i am ever feeling nostalgic about the fireplac...        2\n",
       "4                               i am feeling grouchy        1"
      ]
     },
     "execution_count": 10,
     "metadata": {},
     "output_type": "execute_result"
    }
   ],
   "source": [
    "text.head()"
   ]
  },
  {
   "cell_type": "code",
   "execution_count": 6,
   "id": "d31f9dde",
   "metadata": {},
   "outputs": [],
   "source": [
    "hap_count,sad_count,anger_count,fear_count,love_count,sup_count = text.Emotion.value_counts()"
   ]
  },
  {
   "cell_type": "code",
   "execution_count": 11,
   "id": "66fb5e73",
   "metadata": {},
   "outputs": [],
   "source": [
    "anger_ov = text[text.Emotion==1]\n",
    "fear_ov = text[text.Emotion==4]\n",
    "hap_ov = text[text.Emotion==5]\n",
    "lov_ov = text[text.Emotion==2]\n",
    "sad_ov = text[text.Emotion==0]\n",
    "sup_ov = text[text.Emotion==3]\n",
    "\n",
    "\n",
    "df_anger = anger_ov.sample(hap_count,replace=True,random_state=42)\n",
    "df_fear = fear_ov.sample(hap_count,replace=True,random_state=42)\n",
    "df_lov = lov_ov.sample(hap_count,replace=True,random_state=42)\n",
    "df_sad= sad_ov.sample(hap_count,replace=True,random_state=42)\n",
    "df_sup = sup_ov.sample(hap_count,replace=True,random_state=42)"
   ]
  },
  {
   "cell_type": "code",
   "execution_count": 13,
   "id": "8ac26428",
   "metadata": {},
   "outputs": [],
   "source": [
    "text = pd.concat([hap_ov,df_anger,df_fear,df_lov,df_sad,df_sup],axis=0)"
   ]
  },
  {
   "cell_type": "code",
   "execution_count": 14,
   "id": "c685488e",
   "metadata": {},
   "outputs": [
    {
     "data": {
      "text/plain": [
       "5    7329\n",
       "1    7329\n",
       "4    7329\n",
       "2    7329\n",
       "0    7329\n",
       "3    7329\n",
       "Name: Emotion, dtype: int64"
      ]
     },
     "execution_count": 14,
     "metadata": {},
     "output_type": "execute_result"
    }
   ],
   "source": [
    "text.Emotion.value_counts()"
   ]
  },
  {
   "cell_type": "code",
   "execution_count": 15,
   "id": "8d22c432",
   "metadata": {},
   "outputs": [],
   "source": [
    "# def handle_negations_for_emotions(text):\n",
    "#     negations = set(['not', 'but', 'no', 'never', 'none', 'neither', 'nor', 'cannot', \"doesn't\", \"didn't\", \"won't\", \"isn't\", \"aren't\", \"wasn't\", \"weren't\", \"hasn't\", \"haven't\", \"can't\", \"couldn't\"])\n",
    "#     words = text.lower()\n",
    "#     words = words.split()\n",
    "#     for i in range(len(words)):\n",
    "#         if words[i] in negations and i < len(words) - 1:\n",
    "#             words[i + 1] = 'not_' + words[i + 1]\n",
    "#     return ' '.join(words)"
   ]
  },
  {
   "cell_type": "code",
   "execution_count": 240,
   "id": "a842fa05",
   "metadata": {},
   "outputs": [
    {
     "name": "stdout",
     "output_type": "stream",
     "text": [
      "disappointed\n",
      "disappoint\n"
     ]
    }
   ],
   "source": [
    "stemma = PorterStemmer()\n",
    "lemma = WordNetLemmatizer()\n",
    "print(lemma.lemmatize('disappointed'))\n",
    "print(stemma.stem('disappointed'))"
   ]
  },
  {
   "cell_type": "code",
   "execution_count": 18,
   "id": "8ed89099",
   "metadata": {},
   "outputs": [],
   "source": [
    "corpus = []\n",
    "\n",
    "for index,content in text.iterrows():\n",
    "    text.at[index,'Text'] = re.sub('[^a-zA-Z]', ' ', str(content['Text'])).lower()\n",
    "    sen = content['Text'].strip()\n",
    "    corpus.append(sen)"
   ]
  },
  {
   "cell_type": "code",
   "execution_count": 19,
   "id": "b423d752",
   "metadata": {},
   "outputs": [
    {
     "data": {
      "text/plain": [
       "['i have been with petronas for years i feel that petronas has performed well and made a huge profit',\n",
       " 'i do feel that running is a divine experience and that i can expect to have some type of spiritual encounter',\n",
       " 'i have immense sympathy with the general point but as a possible proto writer trying to find time to write in the corners of life and with no sign of an agent let alone a publishing contract this feels a little precious']"
      ]
     },
     "execution_count": 19,
     "metadata": {},
     "output_type": "execute_result"
    }
   ],
   "source": [
    "corpus[:3]"
   ]
  },
  {
   "cell_type": "code",
   "execution_count": 20,
   "id": "1e1832f6",
   "metadata": {},
   "outputs": [
    {
     "name": "stdout",
     "output_type": "stream",
     "text": [
      "total words in corpus 18117\n"
     ]
    }
   ],
   "source": [
    "tokenizer = Tokenizer(oov_token='<OOV>')\n",
    "tokenizer.fit_on_texts(corpus)\n",
    "total_words = len(tokenizer.word_index)+1\n",
    "\n",
    "print(f\"total words in corpus {total_words}\")"
   ]
  },
  {
   "cell_type": "code",
   "execution_count": 21,
   "id": "d215f6ff",
   "metadata": {},
   "outputs": [],
   "source": [
    "text_sequence = tokenizer.texts_to_sequences(corpus)"
   ]
  },
  {
   "cell_type": "code",
   "execution_count": 22,
   "id": "fdad6911",
   "metadata": {},
   "outputs": [],
   "source": [
    "max_len = max([len(sen) for sen in text_sequence])\n",
    "text_padded = pad_sequences(text_sequence,maxlen=max_len,padding='post')"
   ]
  },
  {
   "cell_type": "code",
   "execution_count": 23,
   "id": "2cb61535",
   "metadata": {},
   "outputs": [
    {
     "data": {
      "text/plain": [
       "array([[   2,   23,   55, ...,    0,    0,    0],\n",
       "       [   2,   41,    3, ...,    0,    0,    0],\n",
       "       [   2,   23, 4411, ...,    0,    0,    0],\n",
       "       ...,\n",
       "       [   2,   79,    8, ...,    0,    0,    0],\n",
       "       [   2,    3,   14, ...,    0,    0,    0],\n",
       "       [   2,   51,   74, ...,    0,    0,    0]])"
      ]
     },
     "execution_count": 23,
     "metadata": {},
     "output_type": "execute_result"
    }
   ],
   "source": [
    "text_padded"
   ]
  },
  {
   "cell_type": "code",
   "execution_count": 24,
   "id": "c50b4d20",
   "metadata": {},
   "outputs": [],
   "source": [
    "x_train,x_test,y_train,y_test = train_test_split(text_padded,text.Emotion,test_size=0.2,random_state=42)"
   ]
  },
  {
   "cell_type": "code",
   "execution_count": 25,
   "id": "45431d17",
   "metadata": {},
   "outputs": [
    {
     "data": {
      "text/plain": [
       "(35179, 35179, 8795, 8795)"
      ]
     },
     "execution_count": 25,
     "metadata": {},
     "output_type": "execute_result"
    }
   ],
   "source": [
    "len(x_train),len(y_train),len(x_test),len(y_test)"
   ]
  },
  {
   "cell_type": "code",
   "execution_count": 26,
   "id": "657b159c",
   "metadata": {},
   "outputs": [
    {
     "data": {
      "text/plain": [
       "((35179, 66), (8795,))"
      ]
     },
     "execution_count": 26,
     "metadata": {},
     "output_type": "execute_result"
    }
   ],
   "source": [
    "x_train.shape,y_test.shape"
   ]
  },
  {
   "cell_type": "code",
   "execution_count": 27,
   "id": "c90d2b7b",
   "metadata": {},
   "outputs": [],
   "source": [
    "class_name = [\"sadness\",\"anger\",\"love\",'suprise','fear','happy']"
   ]
  },
  {
   "cell_type": "code",
   "execution_count": 28,
   "id": "f3a4c453",
   "metadata": {},
   "outputs": [],
   "source": [
    "model = tf.keras.models.Sequential([\n",
    "    Embedding(total_words,200,input_length=max_len),\n",
    "    Bidirectional(LSTM(100,return_sequences=True)),\n",
    "    Bidirectional(LSTM(50)),\n",
    "    Dense(6,activation='softmax')\n",
    "])"
   ]
  },
  {
   "cell_type": "code",
   "execution_count": 29,
   "id": "b14649e9",
   "metadata": {},
   "outputs": [
    {
     "name": "stdout",
     "output_type": "stream",
     "text": [
      "Model: \"sequential\"\n",
      "_________________________________________________________________\n",
      " Layer (type)                Output Shape              Param #   \n",
      "=================================================================\n",
      " embedding (Embedding)       (None, 66, 200)           3623400   \n",
      "                                                                 \n",
      " bidirectional (Bidirection  (None, 66, 200)           240800    \n",
      " al)                                                             \n",
      "                                                                 \n",
      " bidirectional_1 (Bidirecti  (None, 100)               100400    \n",
      " onal)                                                           \n",
      "                                                                 \n",
      " dense (Dense)               (None, 6)                 606       \n",
      "                                                                 \n",
      "=================================================================\n",
      "Total params: 3965206 (15.13 MB)\n",
      "Trainable params: 3965206 (15.13 MB)\n",
      "Non-trainable params: 0 (0.00 Byte)\n",
      "_________________________________________________________________\n"
     ]
    }
   ],
   "source": [
    "model.summary()"
   ]
  },
  {
   "cell_type": "code",
   "execution_count": 30,
   "id": "40fc5a5b",
   "metadata": {},
   "outputs": [],
   "source": [
    "model.compile(optimizer='adam',\n",
    "             loss=tf.keras.losses.SparseCategoricalCrossentropy(),\n",
    "             metrics=['acc'])\n",
    "\n",
    "callback = tf.keras.callbacks.EarlyStopping(monitor='acc',patience=2)"
   ]
  },
  {
   "cell_type": "code",
   "execution_count": 31,
   "id": "7b7b3277",
   "metadata": {},
   "outputs": [
    {
     "name": "stdout",
     "output_type": "stream",
     "text": [
      "Epoch 1/4\n",
      "1100/1100 [==============================] - 220s 189ms/step - loss: 0.5420 - acc: 0.8026 - val_loss: 0.1792 - val_acc: 0.9443\n",
      "Epoch 2/4\n",
      "1100/1100 [==============================] - 212s 193ms/step - loss: 0.1135 - acc: 0.9627 - val_loss: 0.1361 - val_acc: 0.9572\n",
      "Epoch 3/4\n",
      "1100/1100 [==============================] - 216s 197ms/step - loss: 0.0638 - acc: 0.9789 - val_loss: 0.1191 - val_acc: 0.9628\n",
      "Epoch 4/4\n",
      "1100/1100 [==============================] - 213s 194ms/step - loss: 0.0418 - acc: 0.9859 - val_loss: 0.1080 - val_acc: 0.9686\n"
     ]
    }
   ],
   "source": [
    "history = model.fit(x_train,y_train,validation_data=(x_test,y_test),callbacks=[callback],epochs=4)"
   ]
  },
  {
   "cell_type": "code",
   "execution_count": 49,
   "id": "5e121752",
   "metadata": {},
   "outputs": [],
   "source": [
    "from sklearn.metrics import confusion_matrix,classification_report"
   ]
  },
  {
   "cell_type": "code",
   "execution_count": 34,
   "id": "930b06f3",
   "metadata": {},
   "outputs": [
    {
     "name": "stdout",
     "output_type": "stream",
     "text": [
      "275/275 [==============================] - 14s 50ms/step\n"
     ]
    }
   ],
   "source": [
    "predicted = model.predict(x_test)"
   ]
  },
  {
   "cell_type": "code",
   "execution_count": 37,
   "id": "259936f9",
   "metadata": {},
   "outputs": [],
   "source": [
    "prediction= []\n",
    "for i in predicted:\n",
    "    label = np.argmax(i)\n",
    "    prediction.append(label)"
   ]
  },
  {
   "cell_type": "code",
   "execution_count": 40,
   "id": "d2be8cf4",
   "metadata": {},
   "outputs": [
    {
     "data": {
      "text/plain": [
       "[2, 3, 0, 0, 0]"
      ]
     },
     "execution_count": 40,
     "metadata": {},
     "output_type": "execute_result"
    }
   ],
   "source": [
    "prediction[:5]"
   ]
  },
  {
   "cell_type": "code",
   "execution_count": 41,
   "id": "67441158",
   "metadata": {},
   "outputs": [
    {
     "data": {
      "text/plain": [
       "9224     2\n",
       "9194     3\n",
       "370      0\n",
       "7178     0\n",
       "15811    0\n",
       "Name: Emotion, dtype: int64"
      ]
     },
     "execution_count": 41,
     "metadata": {},
     "output_type": "execute_result"
    }
   ],
   "source": [
    "y_test[:5]"
   ]
  },
  {
   "cell_type": "code",
   "execution_count": 43,
   "id": "94deae7f",
   "metadata": {},
   "outputs": [],
   "source": [
    "cm = confusion_matrix(y_test,prediction)"
   ]
  },
  {
   "cell_type": "code",
   "execution_count": 48,
   "id": "ef7f3f15",
   "metadata": {},
   "outputs": [
    {
     "data": {
      "image/png": "[encoded data removed]",
      "text/plain": [
       "<Figure size 640x480 with 2 Axes>"
      ]
     },
     "metadata": {},
     "output_type": "display_data"
    }
   ],
   "source": [
    "import seaborn as sns\n",
    "import matplotlib.pyplot as plt\n",
    "sns.heatmap(cm,\n",
    "           annot=True,\n",
    "           fmt='d')\n",
    "plt.title('prediction result');"
   ]
  },
  {
   "cell_type": "code",
   "execution_count": 51,
   "id": "93df95c4",
   "metadata": {},
   "outputs": [
    {
     "name": "stdout",
     "output_type": "stream",
     "text": [
      "              precision    recall  f1-score   support\n",
      "\n",
      "           0       0.98      0.96      0.97      1450\n",
      "           1       0.97      0.98      0.98      1473\n",
      "           2       0.96      0.99      0.97      1446\n",
      "           3       0.99      0.99      0.99      1496\n",
      "           4       0.98      0.96      0.97      1417\n",
      "           5       0.94      0.94      0.94      1513\n",
      "\n",
      "    accuracy                           0.97      8795\n",
      "   macro avg       0.97      0.97      0.97      8795\n",
      "weighted avg       0.97      0.97      0.97      8795\n",
      "\n"
     ]
    }
   ],
   "source": [
    "print(classification_report(y_test,prediction))"
   ]
  },
  {
   "cell_type": "code",
   "execution_count": 226,
   "id": "ecce597c",
   "metadata": {},
   "outputs": [],
   "source": [
    "def Negation(sentence):\n",
    "        '''\n",
    "        Input: Tokenized sentence (List of words)\n",
    "        Output: Tokenized sentence with negation handled (List of words)\n",
    "        '''\n",
    "        temp = int(0)\n",
    "        for i in range(len(sentence)):\n",
    "          if sentence[i-1] in ['not',\"n't\"]:\n",
    "              antonyms = []\n",
    "              for syn in wordnet.synsets(sentence[i]):\n",
    "                  syns = wordnet.synsets(sentence[i])\n",
    "                  w1 = syns[0].name()\n",
    "                  temp = 0\n",
    "                  for l in syn.lemmas():\n",
    "                      if l.antonyms():\n",
    "                          antonyms.append(l.antonyms()[0].name())\n",
    "                  max_dissimilarity = 0\n",
    "                  for ant in antonyms:\n",
    "                      syns = wordnet.synsets(ant)\n",
    "                      w2 = syns[0].name()\n",
    "                      syns = wordnet.synsets(sentence[i])\n",
    "                      w1 = syns[0].name()\n",
    "                      word1 = wordnet.synset(w1)\n",
    "                      word2 = wordnet.synset(w2)\n",
    "                      if isinstance(word1.wup_similarity(word2), float) or isinstance(word1.wup_similarity(word2), int):\n",
    "                          temp = 1 - word1.wup_similarity(word2)\n",
    "                      if temp>max_dissimilarity:\n",
    "                          max_dissimilarity = temp\n",
    "                          antonym_max = ant\n",
    "                          sentence[i] = antonym_max\n",
    "                          sentence[i-1] = ''\n",
    "        while '' in sentence:\n",
    "          sentence.remove('')\n",
    "        return sentence"
   ]
  },
  {
   "cell_type": "code",
   "execution_count": 227,
   "id": "d3fdca0d",
   "metadata": {},
   "outputs": [
    {
     "name": "stdout",
     "output_type": "stream",
     "text": [
      "['i', 'do', 'ignore', 'how', 'to', 'handle', 'pressure']\n"
     ]
    }
   ],
   "source": [
    "sentence = nltk.word_tokenize(\"i don't know how to handle pressure\")\n",
    "print(Negation(sentence))"
   ]
  },
  {
   "cell_type": "code",
   "execution_count": 152,
   "id": "955f1272",
   "metadata": {},
   "outputs": [],
   "source": [
    "stop_words = ['in']"
   ]
  },
  {
   "cell_type": "code",
   "execution_count": 310,
   "id": "f6ce77f4",
   "metadata": {},
   "outputs": [
    {
     "name": "stdout",
     "output_type": "stream",
     "text": [
      "guys im feeling low all time\n",
      "[[643, 18, 9, 469, 36, 54]]\n"
     ]
    }
   ],
   "source": [
    "text_input = [\"guys im feeling low all time\"]\n",
    "sentence = nltk.word_tokenize(str(text_input))\n",
    "sentence = Negation(sentence)\n",
    "input_text =' '.join(sentence)\n",
    "text = re.sub('[^a-zA-Z]', ' ', str(input_text)).lower()\n",
    "text = re.sub(' +',' ',str(text))\n",
    "sen = text.strip()\n",
    "print(sen)\n",
    "text_input = tokenizer.texts_to_sequences([sen])\n",
    "print(text_input)\n",
    "embedding_docs = pad_sequences(text_input,padding='post',maxlen=max_len)"
   ]
  },
  {
   "cell_type": "code",
   "execution_count": 311,
   "id": "2173f596",
   "metadata": {},
   "outputs": [
    {
     "name": "stdout",
     "output_type": "stream",
     "text": [
      "1/1 [==============================] - 0s 47ms/step\n"
     ]
    },
    {
     "data": {
      "text/plain": [
       "'sadness'"
      ]
     },
     "execution_count": 311,
     "metadata": {},
     "output_type": "execute_result"
    }
   ],
   "source": [
    "class_name[np.argmax(model.predict(embedding_docs))]"
   ]
  },
  {
   "cell_type": "code",
   "execution_count": 312,
   "id": "1aec73d5",
   "metadata": {},
   "outputs": [],
   "source": [
    "model.save('Emotion system.keras')"
   ]
  },
  {
   "cell_type": "code",
   "execution_count": 2,
   "id": "24ab5e06",
   "metadata": {},
   "outputs": [],
   "source": [
    "from keras.models import load_model"
   ]
  },
  {
   "cell_type": "code",
   "execution_count": null,
   "id": "b8dfd297",
   "metadata": {},
   "outputs": [],
   "source": [
    "model"
   ]
  }
 ],
 "metadata": {
  "kernelspec": {
   "display_name": "Python 3 (ipykernel)",
   "language": "python",
   "name": "python3"
  },
  "language_info": {
   "codemirror_mode": {
    "name": "ipython",
    "version": 3
   },
   "file_extension": ".py",
   "mimetype": "text/x-python",
   "name": "python",
   "nbconvert_exporter": "python",
   "pygments_lexer": "ipython3",
   "version": "3.9.18"
  }
 },
 "nbformat": 4,
 "nbformat_minor": 5
}
